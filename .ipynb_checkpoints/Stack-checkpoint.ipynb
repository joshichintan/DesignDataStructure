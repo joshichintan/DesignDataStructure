{
 "cells": [
  {
   "cell_type": "code",
   "execution_count": null,
   "metadata": {
    "collapsed": true
   },
   "outputs": [],
   "source": [
    "class Stack:\n",
    "    def __init__(self,size):\n",
    "        self.items = []\n",
    "        self.size = size\n",
    "        self.len = len(items)\n",
    "    def isEmpty(self):\n",
    "        if self.len != 0:\n",
    "            return False\n",
    "        else:\n",
    "            return True\n",
    "    def push(item):\n",
    "        if self.len < self.size:\n",
    "            self.items.append(item)\n",
    "            self.len += 1\n",
    "        else:\n",
    "            return \"Stack is full.\"\n",
    "    def pop():\n",
    "        if self.len == 0:\n",
    "            return \"Stack is Empty\"\n",
    "        else:\n",
    "            self.len -= 1 \n",
    "            return self.items.pop()\n",
    "    def peek():\n",
    "        if self.len == 0:\n",
    "            return \"Stack is Empty\"\n",
    "        else:\n",
    "            return items[self.len]\n",
    "    def size():\n",
    "        return self.len"
   ]
  }
 ],
 "metadata": {
  "kernelspec": {
   "display_name": "Python 3",
   "language": "python",
   "name": "python3"
  },
  "language_info": {
   "codemirror_mode": {
    "name": "ipython",
    "version": 3
   },
   "file_extension": ".py",
   "mimetype": "text/x-python",
   "name": "python",
   "nbconvert_exporter": "python",
   "pygments_lexer": "ipython3",
   "version": "3.6.3"
  }
 },
 "nbformat": 4,
 "nbformat_minor": 2
}
