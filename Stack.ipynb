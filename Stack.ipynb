{
 "cells": [
  {
   "cell_type": "code",
   "execution_count": 81,
   "metadata": {
    "collapsed": true
   },
   "outputs": [],
   "source": [
    "class Stack:\n",
    "    def __init__(self,size):\n",
    "        self.items = []\n",
    "        self.size = size\n",
    "        self.l = len(self.items)\n",
    "    def isEmpty(self):\n",
    "        if self.l != 0:\n",
    "            return False\n",
    "        else:\n",
    "            return True\n",
    "    def push(self,item):\n",
    "        if self.l < self.size:\n",
    "            self.items.append(item)\n",
    "            self.l += 1\n",
    "        else:\n",
    "            return \"Stack is full.\"\n",
    "    def pop1(self):\n",
    "        if self.l == 0:\n",
    "            return \"Stack is Empty\"\n",
    "        else:\n",
    "            self.l -= 1 \n",
    "            return self.items.pop(self.l)\n",
    "    def peek(self):\n",
    "        if self.l == 0:\n",
    "            return \"Stack is Empty\"\n",
    "        else:\n",
    "            return items[self.l]\n",
    "    def size_of(self):\n",
    "        return self.l\n",
    "    def __str__(self):\n",
    "        print(self.items)\n",
    "        return \"\""
   ]
  },
  {
   "cell_type": "code",
   "execution_count": 82,
   "metadata": {},
   "outputs": [],
   "source": [
    "s = Stack(10)"
   ]
  },
  {
   "cell_type": "code",
   "execution_count": 83,
   "metadata": {},
   "outputs": [
    {
     "name": "stdout",
     "output_type": "stream",
     "text": [
      "True\n",
      "[10]\n",
      "\n",
      "10\n",
      "Stack is full.\n",
      "[10, 9, 8, 7, 6, 5, 4, 3, 2, 1]\n",
      "\n",
      "1\n",
      "[10, 9, 8, 7, 6, 5, 4, 3, 2]\n",
      "\n",
      "2\n",
      "[10, 9, 8, 7, 6, 5, 4, 3]\n",
      "\n",
      "False\n"
     ]
    }
   ],
   "source": [
    "print (s.isEmpty())\n",
    "s.push(10)\n",
    "print(s)\n",
    "s.push(9)\n",
    "s.push(8)\n",
    "s.push(7)\n",
    "s.push(6)\n",
    "s.push(5)\n",
    "s.push(4)\n",
    "s.push(3)\n",
    "s.push(2)\n",
    "s.push(1)\n",
    "print(s.size_of())\n",
    "print(s.push(0))\n",
    "print(s)\n",
    "print(s.pop1())\n",
    "print(s)\n",
    "print(s.pop1())\n",
    "print(s)\n",
    "print(s.isEmpty())"
   ]
  }
 ],
 "metadata": {
  "kernelspec": {
   "display_name": "Python 3",
   "language": "python",
   "name": "python3"
  },
  "language_info": {
   "codemirror_mode": {
    "name": "ipython",
    "version": 3
   },
   "file_extension": ".py",
   "mimetype": "text/x-python",
   "name": "python",
   "nbconvert_exporter": "python",
   "pygments_lexer": "ipython3",
   "version": "3.6.3"
  }
 },
 "nbformat": 4,
 "nbformat_minor": 2
}
